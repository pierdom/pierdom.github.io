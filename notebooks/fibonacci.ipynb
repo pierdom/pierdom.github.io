{
 "cells": [
  {
   "cell_type": "markdown",
   "metadata": {},
   "source": [
    "# Fibonacci sequence in Python\n",
    "0, 1, 1, 2, 3, 5, 8, 13, 21, 34, ..."
   ]
  },
  {
   "cell_type": "code",
   "execution_count": 1,
   "metadata": {},
   "outputs": [],
   "source": [
    "# Recursive implementation of Fibonacci sequence - O(2^n)\n",
    "# Very bad performance\n",
    "def fibonacci_recursive(n):\n",
    "    if n == 0: return 0\n",
    "    elif n == 1: return 1\n",
    "    else: return fibonacci_recursive(n-1) + fibonacci_recursive(n-2)"
   ]
  },
  {
   "cell_type": "code",
   "execution_count": 2,
   "metadata": {},
   "outputs": [],
   "source": [
    "# Iterative implementation of Fibonacci sequence - O(n)\n",
    "def fibonacci_iterative(n):\n",
    "    a, b = 0, 1\n",
    "    for i in range(0, n):\n",
    "        a, b = b, a + b    \n",
    "    return a"
   ]
  },
  {
   "cell_type": "code",
   "execution_count": 3,
   "metadata": {},
   "outputs": [],
   "source": [
    "# Another version of iterative implementation of Fibonacci sequence\n",
    "# It is a bit slower and takes much more memory (keep full sequence)\n",
    "def fibonacci_iterative_v2(n):\n",
    "    fib = [0, 1, 1]                                                                                           \n",
    "    for f in range(2, n):                                                                                      \n",
    "        fib.append(fib[-1] + fib[-2])                                                                         \n",
    "    return fib[n]"
   ]
  },
  {
   "cell_type": "code",
   "execution_count": 4,
   "metadata": {},
   "outputs": [],
   "source": [
    "# Arithmetic implementation of Fibonacci sequence - O(log n)\n",
    "def fibonacci_arithmentic(n):\n",
    "    return pow(2 << n, n + 1, (4 << 2*n) - (2 << n) - 1) % (2 << n)"
   ]
  },
  {
   "cell_type": "code",
   "execution_count": 5,
   "metadata": {},
   "outputs": [
    {
     "name": "stdout",
     "output_type": "stream",
     "text": [
      "#   1  |  Rec.:    0\tIter.:    0\tIter2.:    0\tArit.:    0\n",
      "#   2  |  Rec.:    1\tIter.:    1\tIter2.:    1\tArit.:    1\n",
      "#   3  |  Rec.:    1\tIter.:    1\tIter2.:    1\tArit.:    1\n",
      "#   4  |  Rec.:    2\tIter.:    2\tIter2.:    2\tArit.:    2\n",
      "#   5  |  Rec.:    3\tIter.:    3\tIter2.:    3\tArit.:    3\n",
      "#   6  |  Rec.:    5\tIter.:    5\tIter2.:    5\tArit.:    5\n",
      "#   7  |  Rec.:    8\tIter.:    8\tIter2.:    8\tArit.:    8\n",
      "#   8  |  Rec.:   13\tIter.:   13\tIter2.:   13\tArit.:   13\n",
      "#   9  |  Rec.:   21\tIter.:   21\tIter2.:   21\tArit.:   21\n",
      "#  10  |  Rec.:   34\tIter.:   34\tIter2.:   34\tArit.:   34\n",
      "#  11  |  Rec.:   55\tIter.:   55\tIter2.:   55\tArit.:   55\n",
      "#  12  |  Rec.:   89\tIter.:   89\tIter2.:   89\tArit.:   89\n",
      "#  13  |  Rec.:  144\tIter.:  144\tIter2.:  144\tArit.:  144\n",
      "#  14  |  Rec.:  233\tIter.:  233\tIter2.:  233\tArit.:  233\n",
      "#  15  |  Rec.:  377\tIter.:  377\tIter2.:  377\tArit.:  377\n",
      "#  16  |  Rec.:  610\tIter.:  610\tIter2.:  610\tArit.:  610\n",
      "#  17  |  Rec.:  987\tIter.:  987\tIter2.:  987\tArit.:  987\n",
      "#  18  |  Rec.: 1597\tIter.: 1597\tIter2.: 1597\tArit.: 1597\n"
     ]
    }
   ],
   "source": [
    "# compare results\n",
    "for i in range(0,18):\n",
    "    print(\"# {:>3}  |  \".format(i+1)+\n",
    "          \"Rec.: {:>4}\\tIter.: {:>4}\\tIter2.: {:>4}\\tArit.: {:>4}\"\\\n",
    "          .format(fibonacci_recursive(i),\n",
    "                  fibonacci_iterative(i),\n",
    "                  fibonacci_iterative_v2(i),\n",
    "                  fibonacci_arithmentic(i)))"
   ]
  },
  {
   "cell_type": "markdown",
   "metadata": {},
   "source": [
    "## Compare performance"
   ]
  },
  {
   "cell_type": "code",
   "execution_count": 6,
   "metadata": {},
   "outputs": [
    {
     "name": "stdout",
     "output_type": "stream",
     "text": [
      "3.46 ms ± 202 µs per loop (mean ± std. dev. of 7 runs, 100 loops each)\n"
     ]
    }
   ],
   "source": [
    "%timeit fibonacci_recursive(20)"
   ]
  },
  {
   "cell_type": "code",
   "execution_count": 7,
   "metadata": {},
   "outputs": [
    {
     "name": "stdout",
     "output_type": "stream",
     "text": [
      "1.45 µs ± 47.4 ns per loop (mean ± std. dev. of 7 runs, 1000000 loops each)\n"
     ]
    }
   ],
   "source": [
    "%timeit fibonacci_iterative(20)"
   ]
  },
  {
   "cell_type": "code",
   "execution_count": 8,
   "metadata": {},
   "outputs": [
    {
     "name": "stdout",
     "output_type": "stream",
     "text": [
      "3.14 µs ± 84.6 ns per loop (mean ± std. dev. of 7 runs, 100000 loops each)\n"
     ]
    }
   ],
   "source": [
    "%timeit fibonacci_iterative_v2(20)"
   ]
  },
  {
   "cell_type": "code",
   "execution_count": 9,
   "metadata": {},
   "outputs": [
    {
     "name": "stdout",
     "output_type": "stream",
     "text": [
      "1.96 µs ± 10.5 ns per loop (mean ± std. dev. of 7 runs, 1000000 loops each)\n"
     ]
    }
   ],
   "source": [
    "%timeit fibonacci_arithmentic(20)"
   ]
  },
  {
   "cell_type": "markdown",
   "metadata": {},
   "source": [
    "\n",
    "\n",
    "## Other excercises"
   ]
  },
  {
   "cell_type": "markdown",
   "metadata": {},
   "source": [
    "### Show first N numbers greater than X"
   ]
  },
  {
   "cell_type": "code",
   "execution_count": 10,
   "metadata": {},
   "outputs": [
    {
     "data": {
      "text/plain": [
       "[1597, 2584, 4181, 6765, 10946, 17711, 28657, 46368, 75025, 121393]"
      ]
     },
     "execution_count": 10,
     "metadata": {},
     "output_type": "execute_result"
    }
   ],
   "source": [
    "# based on the iterative implementation\n",
    "def fib_n_bigger_than_x(n=10, x=1000):\n",
    "    a, b = 0, 1\n",
    "    res = []\n",
    "    while(len(res)<n):\n",
    "        a, b = b, a + b\n",
    "        if(a>x): res.append(a)\n",
    "    return res\n",
    "\n",
    "fib_n_bigger_than_x()"
   ]
  },
  {
   "cell_type": "markdown",
   "metadata": {},
   "source": [
    "### Sum of the first N numbers bigger than X"
   ]
  },
  {
   "cell_type": "code",
   "execution_count": 11,
   "metadata": {},
   "outputs": [
    {
     "data": {
      "text/plain": [
       "34"
      ]
     },
     "execution_count": 11,
     "metadata": {},
     "output_type": "execute_result"
    }
   ],
   "source": [
    "# based on the iterative implementation\n",
    "def sum_n_bigger_than_x(n=10, x=1000):\n",
    "    a, b = 0, 1\n",
    "    res = []\n",
    "    while(len(res)<n):\n",
    "        a, b = b, a + b\n",
    "        if(a>x): res.append(a)\n",
    "    return sum(res)\n",
    "\n",
    "sum_n_bigger_than_x(n=2, x=10)"
   ]
  },
  {
   "cell_type": "code",
   "execution_count": null,
   "metadata": {},
   "outputs": [],
   "source": []
  }
 ],
 "metadata": {
  "kernelspec": {
   "display_name": "Python [default]",
   "language": "python",
   "name": "python3"
  },
  "language_info": {
   "codemirror_mode": {
    "name": "ipython",
    "version": 3
   },
   "file_extension": ".py",
   "mimetype": "text/x-python",
   "name": "python",
   "nbconvert_exporter": "python",
   "pygments_lexer": "ipython3",
   "version": "3.6.3"
  }
 },
 "nbformat": 4,
 "nbformat_minor": 2
}
